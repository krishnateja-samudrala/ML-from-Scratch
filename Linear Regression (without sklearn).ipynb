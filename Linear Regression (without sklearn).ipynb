{
 "cells": [
  {
   "cell_type": "code",
   "execution_count": 75,
   "id": "1260389e",
   "metadata": {},
   "outputs": [],
   "source": [
    "import pandas as pd\n",
    "import numpy as np\n",
    "import math\n",
    "from tqdm import tqdm\n",
    "from sklearn.model_selection import train_test_split\n",
    "from dataclasses import dataclass \n",
    "import matplotlib.pyplot as plt "
   ]
  },
  {
   "cell_type": "code",
   "execution_count": 76,
   "id": "f5dc994a",
   "metadata": {},
   "outputs": [],
   "source": [
    "class LinearRegression:\n",
    "    \n",
    "    def __init__(self, X, y, learningRate, epsilon, maxIteration, gd = False, lamda = 0, stgd = False):\n",
    "        \"\"\"This function is for defining variables\"\"\"\n",
    "        self.X = X\n",
    "        self.y = y\n",
    "        self.learningRate = learningRate\n",
    "        self.epsilon = epsilon\n",
    "        self.maxIteration = maxIteration\n",
    "        self.gd = gd\n",
    "        self.lamda = lamda\n",
    "        self.stgd = stgd\n",
    "        \n",
    "    def splitData(self):\n",
    "        \"\"\"This function is to split the data from datset\"\"\"\n",
    "        X_train, X_test, y_train, y_test = train_test_split(self.X, self.y, test_size = 0.3, shuffle = True)\n",
    "        return X_train, X_test, y_train, y_test\n",
    "    \n",
    "    def addX0(self, X):\n",
    "        \"\"\"This function add ones to cater the intercept term\"\"\"\n",
    "        return np.column_stack([np.ones(X.shape[0]), X])\n",
    "    \n",
    "    def normalizeTrain(self, X):\n",
    "        \"\"\"This function is normalize the train data and add the ones after normalizing\"\"\"\n",
    "        mean = np.mean(X, axis = 0)\n",
    "        std = np.std(X, axis = 0)\n",
    "        X_norm = (X - mean)/ std\n",
    "        X_norm = self.addX0(X_norm)\n",
    "        return X_norm, mean, std \n",
    "    \n",
    "    def normalizeTest(self, X, mean, std):\n",
    "        \"\"\"This function normalize the test data using the mean and std of training data\"\"\"\n",
    "        X_norm = (X - mean)/ std\n",
    "        X_norm = self.addX0(X_norm)\n",
    "        return X_norm\n",
    "    \n",
    "    def rank(self, X):\n",
    "        \"\"\"This function is calculating the rank of matrics by using singular value decemposition\"\"\"\n",
    "        v, s, u = np.linalg.svd(X)\n",
    "        rank = sum([True if i > 0 else False for i in s])\n",
    "        return rank\n",
    "    \n",
    "    def checkFullrank(self, X):\n",
    "        \"\"\"This function check either the matrics if full rank or not\"\"\"\n",
    "        rank = self.rank(X)\n",
    "        if rank == min(X.shape):\n",
    "            print(\"its full rank\")\n",
    "            self.Fullrank = True\n",
    "        else:\n",
    "            self.Fullrank = False\n",
    "            print(\"Not a full rank\")\n",
    "    \n",
    "    def checkLowRank(self, X):\n",
    "        \"\"\"This function is to check whether the matrics is low rank or not\"\"\"\n",
    "        if X.shape[1] > X.shape[0]:\n",
    "            self.LowRank = True\n",
    "        else:\n",
    "            self.LowRank = False\n",
    "    \n",
    "    def normalEquation(self, X, y):\n",
    "        \"\"\"This function is for solving with closed form\"\"\"\n",
    "        self.w = np.linalg.inv(X.T.dot(X) + self.lamda * np.eye(X.shape[1])).dot(X.T).dot(y)\n",
    "        \n",
    "    def predict(self, X):\n",
    "        \"\"\"This function will give predicted values in return\"\"\"\n",
    "        return X.dot(self.w)\n",
    "    \n",
    "    def sse(self, X, y):\n",
    "        \"\"\"This function is for calculating sum of squared errors\"\"\"\n",
    "        y_hat = self.predict(X)\n",
    "        return ((y_hat - y)**2).sum()\n",
    "\n",
    "    def costFunction(self, X, y):\n",
    "        \"\"\"This function is give the cost function value for given X and y\"\"\"\n",
    "        sse = self.sse(X, y)\n",
    "        return sse/2\n",
    "    \n",
    "    def costDerivative(self, X, y):\n",
    "        \"\"\"This function is for getting the differentiated cost function value\"\"\"\n",
    "        y_hat = self.predict(X)\n",
    "        return (y_hat - y).dot(X) + self.lamda * self.w\n",
    "    \n",
    "    def gradientDescent(self, X, y):\n",
    "        \"\"\"This function is for solving the regression problem with the gradient descent\"\"\"\n",
    "        errors = []\n",
    "        prev_erro = float(np.inf)\n",
    "        \n",
    "        for i in tqdm(range(self.maxIteration)):\n",
    "            grad = self.costDerivative(X, y)\n",
    "            self.w = self.w - self.learningRate * grad\n",
    "            current_error = self.costFunction(X, y)\n",
    "            errors.append(current_error)\n",
    "            if abs(current_error - prev_erro) < self.epsilon:\n",
    "                print(\"The model stopped learning\")\n",
    "                break\n",
    "            prev_erro = current_error\n",
    "            \n",
    "        self.plot_rmse(errors)\n",
    "        \n",
    "    def stochiasticGD (self, X, y):\n",
    "        \"\"\"This function is for solving the regression problem using stochiatic gradient descent\"\"\"\n",
    "        errors = []\n",
    "        prev_erro = float(np.inf)\n",
    "        \n",
    "        for i in tqdm(range(self.maxIteration)):\n",
    "            X_train, X_test, y_train, y_test = train_test_split(X, y, test_size = 0.8, shuffle = True)\n",
    "            grad = self.costDerivative(X_train, y_train)\n",
    "            self.w = self.w - self.learningRate * grad\n",
    "            current_error = self.costFunction(X_train, y_train)\n",
    "            errors.append(current_error)\n",
    "            if abs(current_error - prev_erro) < self.epsilon:\n",
    "                print(\"The model stopped learning\")\n",
    "                break\n",
    "            prev_erro = current_error\n",
    "            \n",
    "        self.plot_rmse(errors)\n",
    "            \n",
    "    \n",
    "    def fit(self):\n",
    "        \"\"\"This function is used for combiling all the functions together to predict the optimal weights, sse, rmse,\n",
    "        error cost\"\"\"\n",
    "        X_train, X_test, y_train, y_test = self.splitData()\n",
    "        X_train, mean, std = self.normalizeTrain(X_train)\n",
    "        X_test = self.normalizeTest(X_test, mean, std)\n",
    "        \n",
    "        self.checkFullrank(X_train)\n",
    "        self.checkLowRank(X_train)\n",
    "        \n",
    "        if self.Fullrank and not self.LowRank and X_train.shape[0] < 10000 and not self.gd and not self.stgd:\n",
    "            self.normalEquation(X_train, y_train)\n",
    "        else:\n",
    "            if self.stgd and not self.gd:\n",
    "                self.w = np.zeros(X_train.shape[1])\n",
    "                self.stochiasticGD(X_train, y_train)\n",
    "            else:\n",
    "                self.w = np.zeros(X_train.shape[1])\n",
    "                self.gradientDescent(X_train, y_train)\n",
    "    \n",
    "        print(self.w)\n",
    "        print(\"SSE value:\", self.sse(X_test, y_test))\n",
    "        print(\"RMSE value:\", math.sqrt(self.sse(X_test, y_test)/y_test.shape[0]))\n",
    "        \n",
    "    def plot_rmse(self, error_sequence):\n",
    "        \"\"\"\n",
    "        @X: error_sequence, vector of rmse\n",
    "        @does: Plots the error function\n",
    "        @return: plot\n",
    "        \"\"\"\n",
    "        # Data for plotting\n",
    "        s = np.array(error_sequence)\n",
    "        t = np.arange(s.size)\n",
    "\n",
    "        fig, ax = plt.subplots()\n",
    "        ax.plot(t, s)\n",
    "\n",
    "       # ax.set(xlabel='iterations', ylabel = self.errors,\n",
    "              # title='{} trend'.format(self.errors))\n",
    "        #ax.grid()\n",
    "\n",
    "        plt.legend(bbox_to_anchor=(1.05,1), loc=2, shadow=True)\n",
    "        plt.show()     "
   ]
  },
  {
   "cell_type": "markdown",
   "id": "bfe9dd69",
   "metadata": {},
   "source": [
    "# Housing Dataset"
   ]
  },
  {
   "cell_type": "code",
   "execution_count": 77,
   "id": "6d88ffe8",
   "metadata": {},
   "outputs": [
    {
     "data": {
      "text/html": [
       "<div>\n",
       "<style scoped>\n",
       "    .dataframe tbody tr th:only-of-type {\n",
       "        vertical-align: middle;\n",
       "    }\n",
       "\n",
       "    .dataframe tbody tr th {\n",
       "        vertical-align: top;\n",
       "    }\n",
       "\n",
       "    .dataframe thead th {\n",
       "        text-align: right;\n",
       "    }\n",
       "</style>\n",
       "<table border=\"1\" class=\"dataframe\">\n",
       "  <thead>\n",
       "    <tr style=\"text-align: right;\">\n",
       "      <th></th>\n",
       "      <th>0.00632</th>\n",
       "      <th>18</th>\n",
       "      <th>2.31</th>\n",
       "      <th>0</th>\n",
       "      <th>0.538</th>\n",
       "      <th>6.575</th>\n",
       "      <th>65.2</th>\n",
       "      <th>4.09</th>\n",
       "      <th>1</th>\n",
       "      <th>296</th>\n",
       "      <th>15.3</th>\n",
       "      <th>396.9</th>\n",
       "      <th>4.98</th>\n",
       "      <th>24</th>\n",
       "    </tr>\n",
       "  </thead>\n",
       "  <tbody>\n",
       "    <tr>\n",
       "      <th>0</th>\n",
       "      <td>0.02731</td>\n",
       "      <td>0.0</td>\n",
       "      <td>7.07</td>\n",
       "      <td>0</td>\n",
       "      <td>0.469</td>\n",
       "      <td>6.421</td>\n",
       "      <td>78.9</td>\n",
       "      <td>4.9671</td>\n",
       "      <td>2</td>\n",
       "      <td>242</td>\n",
       "      <td>17.8</td>\n",
       "      <td>396.90</td>\n",
       "      <td>9.14</td>\n",
       "      <td>21.6</td>\n",
       "    </tr>\n",
       "    <tr>\n",
       "      <th>1</th>\n",
       "      <td>0.02729</td>\n",
       "      <td>0.0</td>\n",
       "      <td>7.07</td>\n",
       "      <td>0</td>\n",
       "      <td>0.469</td>\n",
       "      <td>7.185</td>\n",
       "      <td>61.1</td>\n",
       "      <td>4.9671</td>\n",
       "      <td>2</td>\n",
       "      <td>242</td>\n",
       "      <td>17.8</td>\n",
       "      <td>392.83</td>\n",
       "      <td>4.03</td>\n",
       "      <td>34.7</td>\n",
       "    </tr>\n",
       "  </tbody>\n",
       "</table>\n",
       "</div>"
      ],
      "text/plain": [
       "   0.00632   18  2.31  0  0.538  6.575  65.2    4.09  1  296  15.3   396.9  \\\n",
       "0  0.02731  0.0  7.07  0  0.469  6.421  78.9  4.9671  2  242  17.8  396.90   \n",
       "1  0.02729  0.0  7.07  0  0.469  7.185  61.1  4.9671  2  242  17.8  392.83   \n",
       "\n",
       "   4.98    24  \n",
       "0  9.14  21.6  \n",
       "1  4.03  34.7  "
      ]
     },
     "execution_count": 77,
     "metadata": {},
     "output_type": "execute_result"
    }
   ],
   "source": [
    "df1 = pd.read_csv(\"housing.csv\")\n",
    "df1.head(2)"
   ]
  },
  {
   "cell_type": "code",
   "execution_count": 80,
   "id": "d4ab44e7",
   "metadata": {},
   "outputs": [],
   "source": [
    "# Close form solution\n",
    "clf = LinearRegression(X = df1.values[:, 0:-1], y = df1.values[:, -1], learningRate = 0.0001, \n",
    "                       gd = False, maxIteration = 10000, epsilon = 0.00025)"
   ]
  },
  {
   "cell_type": "code",
   "execution_count": 81,
   "id": "35da027b",
   "metadata": {},
   "outputs": [
    {
     "name": "stdout",
     "output_type": "stream",
     "text": [
      "its full rank\n",
      "[22.17507082 -1.03797751  0.87242671 -0.05645523  0.82426689 -1.8724425\n",
      "  2.61215373 -0.34291558 -2.98224954  2.6334807  -2.24177995 -1.76006165\n",
      "  0.58491549 -3.34900731]\n",
      "SSE value: 3027.2292955606536\n",
      "RMSE value: 4.462732594233703\n"
     ]
    }
   ],
   "source": [
    "clf.fit()"
   ]
  },
  {
   "cell_type": "code",
   "execution_count": 82,
   "id": "55d247cf",
   "metadata": {},
   "outputs": [],
   "source": [
    "# Solving with gradient descent without regularix=zation\n",
    "clf = LinearRegression(X = df1.values[:, 0:-1], y = df1.values[:, -1], learningRate = 0.00005, \n",
    "                       gd = True, maxIteration = 100000, epsilon = 0.00025, lamda = 0)"
   ]
  },
  {
   "cell_type": "code",
   "execution_count": 83,
   "id": "62bece09",
   "metadata": {},
   "outputs": [
    {
     "name": "stdout",
     "output_type": "stream",
     "text": [
      "its full rank\n"
     ]
    },
    {
     "name": "stderr",
     "output_type": "stream",
     "text": [
      "  3%|▉                                | 2996/100000 [00:00<00:04, 20505.63it/s]\n",
      "No artists with labels found to put in legend.  Note that artists whose label start with an underscore are ignored when legend() is called with no argument.\n"
     ]
    },
    {
     "name": "stdout",
     "output_type": "stream",
     "text": [
      "The model stopped learning\n"
     ]
    },
    {
     "data": {
      "image/png": "[encoded data removed]",
      "text/plain": [
       "<Figure size 432x288 with 1 Axes>"
      ]
     },
     "metadata": {
      "needs_background": "light"
     },
     "output_type": "display_data"
    },
    {
     "name": "stdout",
     "output_type": "stream",
     "text": [
      "[22.43314448 -0.49482074  1.13025294 -0.18096473  0.76723967 -2.10801541\n",
      "  2.64083666 -0.26845876 -3.68565328  2.40532644 -1.82891045 -1.8613039\n",
      "  0.89649235 -4.03898399]\n",
      "SSE value: 2062.0649162330055\n",
      "RMSE value: 3.6832345233726986\n"
     ]
    }
   ],
   "source": [
    "clf.fit()"
   ]
  },
  {
   "cell_type": "code",
   "execution_count": 84,
   "id": "241860c7",
   "metadata": {},
   "outputs": [],
   "source": [
    "#Gradient Descent with regularization\n",
    "clf = LinearRegression(X = df1.values[:, 0:-1], y = df1.values[:, -1], learningRate = 0.00005, \n",
    "                       gd = True, maxIteration = 5000, epsilon = 0.0005, lamda = 2)"
   ]
  },
  {
   "cell_type": "code",
   "execution_count": 85,
   "id": "58e8bd3e",
   "metadata": {},
   "outputs": [
    {
     "name": "stdout",
     "output_type": "stream",
     "text": [
      "its full rank\n"
     ]
    },
    {
     "name": "stderr",
     "output_type": "stream",
     "text": [
      " 80%|███████████████████████████▉       | 3983/5000 [00:00<00:00, 20384.85it/s]\n",
      "No artists with labels found to put in legend.  Note that artists whose label start with an underscore are ignored when legend() is called with no argument.\n"
     ]
    },
    {
     "name": "stdout",
     "output_type": "stream",
     "text": [
      "The model stopped learning\n"
     ]
    },
    {
     "data": {
      "image/png": "[encoded data removed]",
      "text/plain": [
       "<Figure size 432x288 with 1 Axes>"
      ]
     },
     "metadata": {
      "needs_background": "light"
     },
     "output_type": "display_data"
    },
    {
     "name": "stdout",
     "output_type": "stream",
     "text": [
      "[22.20788732 -1.2467653   1.09221121 -0.03005215  0.70220767 -2.21390993\n",
      "  2.51944276 -0.0964965  -3.32048731  2.75656637 -1.91850284 -2.17606921\n",
      "  0.93320758 -3.79015573]\n",
      "SSE value: 2449.1126891966173\n",
      "RMSE value: 4.014048265972482\n"
     ]
    }
   ],
   "source": [
    "clf.fit()"
   ]
  },
  {
   "cell_type": "code",
   "execution_count": 86,
   "id": "fc92bc9e",
   "metadata": {},
   "outputs": [],
   "source": [
    "# Using Stochaistic Gradient Descent\n",
    "clf = LinearRegression(X = df1.values[:, 0:-1], y = df1.values[:, -1], learningRate = 0.00005, \n",
    "                       gd = False, maxIteration = 10000, epsilon = 0.001, lamda = 0, stgd = True)"
   ]
  },
  {
   "cell_type": "code",
   "execution_count": 87,
   "id": "dccf7126",
   "metadata": {},
   "outputs": [
    {
     "name": "stdout",
     "output_type": "stream",
     "text": [
      "its full rank\n"
     ]
    },
    {
     "name": "stderr",
     "output_type": "stream",
     "text": [
      "100%|██████████████████████████████████| 10000/10000 [00:02<00:00, 3424.91it/s]\n",
      "No artists with labels found to put in legend.  Note that artists whose label start with an underscore are ignored when legend() is called with no argument.\n"
     ]
    },
    {
     "data": {
      "image/png": "[encoded data removed]",
      "text/plain": [
       "<Figure size 432x288 with 1 Axes>"
      ]
     },
     "metadata": {
      "needs_background": "light"
     },
     "output_type": "display_data"
    },
    {
     "name": "stdout",
     "output_type": "stream",
     "text": [
      "[22.47442525 -0.96917789  0.95012696 -0.26929434  0.8567567  -1.90574762\n",
      "  2.55244552  0.13080143 -3.20263251  2.30452922 -1.52611492 -1.91157193\n",
      "  0.91026025 -3.91407933]\n",
      "SSE value: 3419.3235411215533\n",
      "RMSE value: 4.7429473550358745\n"
     ]
    }
   ],
   "source": [
    "clf.fit()"
   ]
  },
  {
   "cell_type": "markdown",
   "id": "05935e99",
   "metadata": {},
   "source": [
    "# On Yachdata Dataset"
   ]
  },
  {
   "cell_type": "code",
   "execution_count": 88,
   "id": "bb29335f",
   "metadata": {},
   "outputs": [
    {
     "data": {
      "text/html": [
       "<div>\n",
       "<style scoped>\n",
       "    .dataframe tbody tr th:only-of-type {\n",
       "        vertical-align: middle;\n",
       "    }\n",
       "\n",
       "    .dataframe tbody tr th {\n",
       "        vertical-align: top;\n",
       "    }\n",
       "\n",
       "    .dataframe thead th {\n",
       "        text-align: right;\n",
       "    }\n",
       "</style>\n",
       "<table border=\"1\" class=\"dataframe\">\n",
       "  <thead>\n",
       "    <tr style=\"text-align: right;\">\n",
       "      <th></th>\n",
       "      <th>C1</th>\n",
       "      <th>C2</th>\n",
       "      <th>C3</th>\n",
       "      <th>C4</th>\n",
       "      <th>C5</th>\n",
       "      <th>C6</th>\n",
       "      <th>Y</th>\n",
       "    </tr>\n",
       "  </thead>\n",
       "  <tbody>\n",
       "    <tr>\n",
       "      <th>0</th>\n",
       "      <td>-2.3</td>\n",
       "      <td>0.568</td>\n",
       "      <td>4.78</td>\n",
       "      <td>3.99</td>\n",
       "      <td>3.17</td>\n",
       "      <td>0.125</td>\n",
       "      <td>0.11</td>\n",
       "    </tr>\n",
       "    <tr>\n",
       "      <th>1</th>\n",
       "      <td>-2.3</td>\n",
       "      <td>0.568</td>\n",
       "      <td>4.78</td>\n",
       "      <td>3.99</td>\n",
       "      <td>3.17</td>\n",
       "      <td>0.150</td>\n",
       "      <td>0.27</td>\n",
       "    </tr>\n",
       "  </tbody>\n",
       "</table>\n",
       "</div>"
      ],
      "text/plain": [
       "    C1     C2    C3    C4    C5     C6     Y\n",
       "0 -2.3  0.568  4.78  3.99  3.17  0.125  0.11\n",
       "1 -2.3  0.568  4.78  3.99  3.17  0.150  0.27"
      ]
     },
     "execution_count": 88,
     "metadata": {},
     "output_type": "execute_result"
    }
   ],
   "source": [
    "df2 = pd.read_csv(\"yachtData.csv\")\n",
    "df2.head(2)"
   ]
  },
  {
   "cell_type": "code",
   "execution_count": 89,
   "id": "0ae9d1bd",
   "metadata": {},
   "outputs": [],
   "source": [
    "# With close form solution\n",
    "clf = LinearRegression(X = df2.values[:, 0:-1], y = df2.values[:, -1], learningRate = 0.000005, \n",
    "                       gd = False, maxIteration = 100000, epsilon = 0.0005, lamda = 2, stgd = False)"
   ]
  },
  {
   "cell_type": "code",
   "execution_count": 90,
   "id": "1e9e17d3",
   "metadata": {},
   "outputs": [
    {
     "name": "stdout",
     "output_type": "stream",
     "text": [
      "its full rank\n",
      "[10.58626728  0.66989049 -0.86982597 -0.39584771  0.93221631  0.85138292\n",
      " 12.71202394]\n",
      "SSE value: 6892.859944161999\n",
      "RMSE value: 8.60910991875117\n"
     ]
    }
   ],
   "source": [
    "clf.fit()"
   ]
  },
  {
   "cell_type": "code",
   "execution_count": 91,
   "id": "d39b012f",
   "metadata": {},
   "outputs": [],
   "source": [
    "# With gradient descent \n",
    "clf = LinearRegression(X = df2.values[:, 0:-1], y = df2.values[:, -1], learningRate = 0.000005, \n",
    "                       gd = True, maxIteration = 100000, epsilon = 0.0005, lamda = 2, stgd = False)"
   ]
  },
  {
   "cell_type": "code",
   "execution_count": 92,
   "id": "9d45c2eb",
   "metadata": {},
   "outputs": [
    {
     "name": "stdout",
     "output_type": "stream",
     "text": [
      "its full rank\n"
     ]
    },
    {
     "name": "stderr",
     "output_type": "stream",
     "text": [
      "  7%|██▏                              | 6748/100000 [00:00<00:03, 23599.58it/s]\n",
      "No artists with labels found to put in legend.  Note that artists whose label start with an underscore are ignored when legend() is called with no argument.\n"
     ]
    },
    {
     "name": "stdout",
     "output_type": "stream",
     "text": [
      "The model stopped learning\n"
     ]
    },
    {
     "data": {
      "image/png": "[encoded data removed]",
      "text/plain": [
       "<Figure size 432x288 with 1 Axes>"
      ]
     },
     "metadata": {
      "needs_background": "light"
     },
     "output_type": "display_data"
    },
    {
     "name": "stdout",
     "output_type": "stream",
     "text": [
      "[11.46245527 -0.16235024 -0.72898622 -0.05687292 -0.40485342  0.29400338\n",
      " 13.25995534]\n",
      "SSE value: 6754.004148035541\n",
      "RMSE value: 8.521954031588717\n"
     ]
    }
   ],
   "source": [
    "clf.fit()"
   ]
  },
  {
   "cell_type": "code",
   "execution_count": 93,
   "id": "81c4034e",
   "metadata": {},
   "outputs": [],
   "source": [
    "# Using Stochaistic Gradient Descent \n",
    "clf = LinearRegression(X = df2.values[:, 0:-1], y = df2.values[:, -1], learningRate = 0.000005, \n",
    "                       gd = False, maxIteration = 100000, epsilon = 0.0005, lamda = 2, stgd = True)"
   ]
  },
  {
   "cell_type": "code",
   "execution_count": 94,
   "id": "70db89de",
   "metadata": {},
   "outputs": [
    {
     "name": "stdout",
     "output_type": "stream",
     "text": [
      "its full rank\n"
     ]
    },
    {
     "name": "stderr",
     "output_type": "stream",
     "text": [
      "100%|████████████████████████████████| 100000/100000 [00:26<00:00, 3769.44it/s]\n",
      "No artists with labels found to put in legend.  Note that artists whose label start with an underscore are ignored when legend() is called with no argument.\n"
     ]
    },
    {
     "data": {
      "image/png": "[encoded data removed]",
      "text/plain": [
       "<Figure size 432x288 with 1 Axes>"
      ]
     },
     "metadata": {
      "needs_background": "light"
     },
     "output_type": "display_data"
    },
    {
     "name": "stdout",
     "output_type": "stream",
     "text": [
      "[10.25440769 -0.0650899  -0.20276321  0.69422027 -0.47749485 -0.54237126\n",
      " 12.13975077]\n",
      "SSE value: 5465.650490831002\n",
      "RMSE value: 7.66618780002679\n"
     ]
    }
   ],
   "source": [
    "clf.fit()"
   ]
  },
  {
   "cell_type": "markdown",
   "id": "b2e038e6",
   "metadata": {},
   "source": [
    "# Concrete Dataset "
   ]
  },
  {
   "cell_type": "code",
   "execution_count": 95,
   "id": "0f098116",
   "metadata": {},
   "outputs": [
    {
     "data": {
      "text/html": [
       "<div>\n",
       "<style scoped>\n",
       "    .dataframe tbody tr th:only-of-type {\n",
       "        vertical-align: middle;\n",
       "    }\n",
       "\n",
       "    .dataframe tbody tr th {\n",
       "        vertical-align: top;\n",
       "    }\n",
       "\n",
       "    .dataframe thead th {\n",
       "        text-align: right;\n",
       "    }\n",
       "</style>\n",
       "<table border=\"1\" class=\"dataframe\">\n",
       "  <thead>\n",
       "    <tr style=\"text-align: right;\">\n",
       "      <th></th>\n",
       "      <th>C1</th>\n",
       "      <th>C2</th>\n",
       "      <th>C3</th>\n",
       "      <th>C4</th>\n",
       "      <th>C5</th>\n",
       "      <th>C6</th>\n",
       "      <th>C7</th>\n",
       "      <th>C8</th>\n",
       "      <th>Y</th>\n",
       "    </tr>\n",
       "  </thead>\n",
       "  <tbody>\n",
       "    <tr>\n",
       "      <th>0</th>\n",
       "      <td>540.0</td>\n",
       "      <td>0.0</td>\n",
       "      <td>0.0</td>\n",
       "      <td>162.0</td>\n",
       "      <td>2.5</td>\n",
       "      <td>1040.0</td>\n",
       "      <td>676.0</td>\n",
       "      <td>28</td>\n",
       "      <td>79.99</td>\n",
       "    </tr>\n",
       "    <tr>\n",
       "      <th>1</th>\n",
       "      <td>540.0</td>\n",
       "      <td>0.0</td>\n",
       "      <td>0.0</td>\n",
       "      <td>162.0</td>\n",
       "      <td>2.5</td>\n",
       "      <td>1055.0</td>\n",
       "      <td>676.0</td>\n",
       "      <td>28</td>\n",
       "      <td>61.89</td>\n",
       "    </tr>\n",
       "  </tbody>\n",
       "</table>\n",
       "</div>"
      ],
      "text/plain": [
       "      C1   C2   C3     C4   C5      C6     C7  C8      Y\n",
       "0  540.0  0.0  0.0  162.0  2.5  1040.0  676.0  28  79.99\n",
       "1  540.0  0.0  0.0  162.0  2.5  1055.0  676.0  28  61.89"
      ]
     },
     "execution_count": 95,
     "metadata": {},
     "output_type": "execute_result"
    }
   ],
   "source": [
    "df3 = pd.read_csv(\"concreteData.csv\")\n",
    "df3.head(2)"
   ]
  },
  {
   "cell_type": "code",
   "execution_count": 96,
   "id": "23058fb4",
   "metadata": {},
   "outputs": [],
   "source": [
    "# Close form solution \n",
    "clf = LinearRegression(X = df3.values[:, 0:-1], y = df3.values[:, -1], learningRate = 0.0005, \n",
    "                       gd = False, maxIteration = 100000, epsilon = 0.0005, lamda = 0, stgd = False)"
   ]
  },
  {
   "cell_type": "code",
   "execution_count": 97,
   "id": "b42be368",
   "metadata": {},
   "outputs": [
    {
     "name": "stdout",
     "output_type": "stream",
     "text": [
      "its full rank\n",
      "[36.0643828  13.16238583  9.43921213  6.15341586 -3.00069482  1.68619412\n",
      "  1.75369145  2.00141596  7.12180878]\n",
      "SSE value: 31638.379118957208\n",
      "RMSE value: 10.118773465037881\n"
     ]
    }
   ],
   "source": [
    "clf.fit()"
   ]
  },
  {
   "cell_type": "code",
   "execution_count": 98,
   "id": "772ca41e",
   "metadata": {},
   "outputs": [],
   "source": [
    "# Using Gradient Descent\n",
    "clf = LinearRegression(X = df3.values[:, 0:-1], y = df3.values[:, -1], learningRate = 0.000005, \n",
    "                       gd = True, maxIteration = 100000, epsilon = 0.00001, lamda = 0, stgd = False)"
   ]
  },
  {
   "cell_type": "code",
   "execution_count": 99,
   "id": "300cf061",
   "metadata": {},
   "outputs": [
    {
     "name": "stdout",
     "output_type": "stream",
     "text": [
      "its full rank\n"
     ]
    },
    {
     "name": "stderr",
     "output_type": "stream",
     "text": [
      " 47%|███████████████                 | 46881/100000 [00:02<00:03, 16263.86it/s]\n",
      "No artists with labels found to put in legend.  Note that artists whose label start with an underscore are ignored when legend() is called with no argument.\n"
     ]
    },
    {
     "name": "stdout",
     "output_type": "stream",
     "text": [
      "The model stopped learning\n"
     ]
    },
    {
     "data": {
      "image/png": "[encoded data removed]",
      "text/plain": [
       "<Figure size 432x288 with 1 Axes>"
      ]
     },
     "metadata": {
      "needs_background": "light"
     },
     "output_type": "display_data"
    },
    {
     "name": "stdout",
     "output_type": "stream",
     "text": [
      "[36.00477115 12.52761425  8.90586905  5.24129037 -3.52487064  1.73228949\n",
      "  1.09358394  1.3564654   6.9166455 ]\n",
      "SSE value: 32782.3185085063\n",
      "RMSE value: 10.300079886029838\n"
     ]
    }
   ],
   "source": [
    "clf.fit()"
   ]
  },
  {
   "cell_type": "code",
   "execution_count": 100,
   "id": "b53476b3",
   "metadata": {},
   "outputs": [],
   "source": [
    "# Using Stochiastic Gradient Descent \n",
    "clf = LinearRegression(X = df3.values[:, 0:-1], y = df3.values[:, -1], learningRate = 0.000005, \n",
    "                       gd = False, maxIteration = 100000, epsilon = 0.00001, lamda = 2, stgd = True)"
   ]
  },
  {
   "cell_type": "code",
   "execution_count": 101,
   "id": "f9bcf751",
   "metadata": {},
   "outputs": [
    {
     "name": "stdout",
     "output_type": "stream",
     "text": [
      "its full rank\n"
     ]
    },
    {
     "name": "stderr",
     "output_type": "stream",
     "text": [
      "100%|████████████████████████████████| 100000/100000 [00:33<00:00, 2973.84it/s]\n",
      "No artists with labels found to put in legend.  Note that artists whose label start with an underscore are ignored when legend() is called with no argument.\n"
     ]
    },
    {
     "data": {
      "image/png": "[encoded data removed]",
      "text/plain": [
       "<Figure size 432x288 with 1 Axes>"
      ]
     },
     "metadata": {
      "needs_background": "light"
     },
     "output_type": "display_data"
    },
    {
     "name": "stdout",
     "output_type": "stream",
     "text": [
      "[35.70212921 10.27789586  6.9148693   4.13061651 -5.36582073  1.28354756\n",
      " -0.20219896 -0.40632008  6.8736313 ]\n",
      "SSE value: 31308.962962556034\n",
      "RMSE value: 10.065957715646885\n"
     ]
    }
   ],
   "source": [
    "clf.fit()"
   ]
  },
  {
   "cell_type": "markdown",
   "id": "77ff4ed2",
   "metadata": {},
   "source": [
    "# Observations and Conclusion"
   ]
  },
  {
   "cell_type": "markdown",
   "id": "0b0d316a",
   "metadata": {},
   "source": [
    "1) We can apply close form solution if the matrix is full rank and on dataset with number of records are more than number of attributes. \\\n",
    "2) We can use gradient descent in any condition as norm 2 is always positive semidefinite and jave local minima. \\\n",
    "3) While using gradient descent, learning rate should be optimum. If learning rate is higher, it is highly likely we will not able to reach minima as steps in every iteration will be higher. On the other hand, if learning rate is lower, it will reach the minima but model will take very high number of itearations. \\\n",
    "4) The major disadvantage of linear regression is if one parameter weight have very high value as compared to others, that parameter will dominate over the other parameters. So, we use the regularization term to penalize the weights which have high values. If we choose high value of regulazation parameter, model will undrfits as it will try to minimize the weights as much as possible. On the other hand, If regularization paramter is small, model will overfit as it will not able to penalize the weights effectively. "
   ]
  }
 ],
 "metadata": {
  "kernelspec": {
   "display_name": "Python 3 (ipykernel)",
   "language": "python",
   "name": "python3"
  },
  "language_info": {
   "codemirror_mode": {
    "name": "ipython",
    "version": 3
   },
   "file_extension": ".py",
   "mimetype": "text/x-python",
   "name": "python",
   "nbconvert_exporter": "python",
   "pygments_lexer": "ipython3",
   "version": "3.10.2"
  }
 },
 "nbformat": 4,
 "nbformat_minor": 5
}
